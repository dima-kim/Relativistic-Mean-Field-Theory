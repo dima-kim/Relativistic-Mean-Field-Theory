{
 "cells": [
  {
   "cell_type": "code",
   "execution_count": null,
   "metadata": {},
   "outputs": [],
   "source": [
    "from utils.solver import solve_SCRMFT, solve_woods_saxon_RMFT\n",
    "import pandas as pd\n",
    "\n",
    "from matplotlib import pyplot as plt\n",
    "%config InlineBackend.figure_formats = ['svg']\n",
    "plt.rc('figure', figsize=(6, 6))"
   ]
  },
  {
   "cell_type": "code",
   "execution_count": 2,
   "metadata": {},
   "outputs": [],
   "source": [
    "# input_file = pd.read_excel('./input_files/O16_RMF.xlsx', sheet_name=None)\n",
    "# input_file = pd.read_excel('./input_files/Ca40_RMF.xlsx', sheet_name=None)\n",
    "input_file = pd.read_excel('./input_files/Pb208_RMF.xlsx', sheet_name=None)"
   ]
  },
  {
   "cell_type": "markdown",
   "metadata": {},
   "source": [
    "Important to note that sometimes code fails because match radius might be too close to a node. If we get error that there is an invalid quantity inside a square root, then see which energy failed and play around with the match radius until it works.\n",
    "\n",
    "At the moment, I am using the SAME r_middle for every wavefunction. If r_middle is different for each wavefuction, then the radial grid each single particle wavefunction is evaluated at is DIFFERENT. The code I have written ASSUMES the radial grids are all the SAME. Important to keep this in mind."
   ]
  },
  {
   "cell_type": "markdown",
   "metadata": {},
   "source": [
    "### WHEN TRANSFORMING INTO LIGHT FRONT, REMEMBER THAT YOUR POTENTIALS ARE ALL MULTIPLIED BY AN EXTRA FACTOR OF THE COUPLING!!!!"
   ]
  },
  {
   "cell_type": "markdown",
   "metadata": {},
   "source": [
    "Note that the energy offset is important and the match radius has influence on if you reach the correct energy"
   ]
  },
  {
   "cell_type": "code",
   "execution_count": null,
   "metadata": {},
   "outputs": [
    {
     "name": "stdout",
     "output_type": "stream",
     "text": [
      "\n",
      "------------ ITERATION 0 ------------\n",
      "\n",
      "--------------\n",
      "NEUTRON STATES\n",
      "--------------\n",
      "1S1/2\n",
      "Succesfully converged with 0 iterations, energy is : 862.3767413394123\n",
      "1P3/2\n",
      "Succesfully converged with 27 iterations, energy is : 877.6648363241411\n",
      "1P1/2\n",
      "Succesfully converged with 25 iterations, energy is : 878.5269846746169\n",
      "1D5/2\n",
      "Succesfully converged with 13 iterations, energy is : 886.3734502533961\n",
      "2S1/2\n",
      "Succesfully converged with 29 iterations, energy is : 891.0327568434155\n",
      "1D3/2\n",
      "Succesfully converged with 11 iterations, energy is : 888.362042909177\n",
      "1F7/2\n",
      "Succesfully converged with 11 iterations, energy is : 895.9046629232865\n",
      "2P3/2\n",
      "Succesfully converged with 16 iterations, energy is : 902.8781825397222\n",
      "1F5/2\n",
      "Succesfully converged with 10 iterations, energy is : 899.3737455913124\n",
      "2P1/2\n",
      "Succesfully converged with 13 iterations, energy is : 904.1166173820077\n",
      "1G9/2\n",
      "Succesfully converged with 9 iterations, energy is : 905.9979345412867\n",
      "1G7/2\n",
      "Succesfully converged with 12 iterations, energy is : 911.1800508369415\n",
      "1H11/2\n",
      "Succesfully converged with 8 iterations, energy is : 916.4325946063183\n",
      "2D5/2\n",
      "Succesfully converged with 11 iterations, energy is : 914.8173819724159\n",
      "2D3/2\n",
      "Succesfully converged with 13 iterations, energy is : 916.97547654823\n",
      "1H9/2\n",
      "Succesfully converged with 12 iterations, energy is : 923.3858156588391\n",
      "3S1/2\n",
      "Succesfully converged with 10 iterations, energy is : 918.1498470474721\n",
      "2F7/2\n",
      "Succesfully converged with 13 iterations, energy is : 926.400382393178\n",
      "3P3/2\n",
      "Succesfully converged with 22 iterations, energy is : 930.2033822849552\n",
      "2F5/2\n",
      "Succesfully converged with 20 iterations, energy is : 929.3003730522514\n",
      "3P1/2\n",
      "Succesfully converged with 22 iterations, energy is : 931.1988836054835\n",
      "1I13/2\n"
     ]
    },
    {
     "name": "stderr",
     "output_type": "stream",
     "text": [
      "/Users/dima/Projects/Light-Front Mean Field Theory/Runge-Kutta Method/utils/differential_equation_factory.py:194: RuntimeWarning: invalid value encountered in sqrt\n",
      "  u_IC = lambda r, E: np.exp( -np.sqrt(self.m**2 - E**2) * r / self.hbarc)\n",
      "/Users/dima/Projects/Light-Front Mean Field Theory/Runge-Kutta Method/utils/differential_equation_factory.py:195: RuntimeWarning: invalid value encountered in sqrt\n",
      "  v_IC = lambda r, E: np.exp( -np.sqrt(self.m**2 - E**2) * r / self.hbarc)\n"
     ]
    },
    {
     "name": "stdout",
     "output_type": "stream",
     "text": [
      "Did not converge with 50 iterations\n"
     ]
    },
    {
     "ename": "TypeError",
     "evalue": "cannot unpack non-iterable int object",
     "output_type": "error",
     "traceback": [
      "\u001b[0;31m---------------------------------------------------------------------------\u001b[0m",
      "\u001b[0;31mTypeError\u001b[0m                                 Traceback (most recent call last)",
      "Input \u001b[0;32mIn [3]\u001b[0m, in \u001b[0;36m<cell line: 1>\u001b[0;34m()\u001b[0m\n\u001b[0;32m----> 1\u001b[0m energy, wfk, scalar_pot, vector_pot, rho_pot, coulomb_pot \u001b[38;5;241m=\u001b[39m \u001b[43msolve_SCRMFT\u001b[49m\u001b[43m(\u001b[49m\u001b[43minput_file\u001b[49m\u001b[43m)\u001b[49m\n",
      "File \u001b[0;32m~/Projects/Light-Front Mean Field Theory/Runge-Kutta Method/utils/solver.py:470\u001b[0m, in \u001b[0;36msolve_SCRMFT\u001b[0;34m(input_file, tol)\u001b[0m\n\u001b[1;32m    468\u001b[0m \u001b[38;5;28mprint\u001b[39m(\u001b[38;5;124m'\u001b[39m\u001b[38;5;124mNEUTRON STATES\u001b[39m\u001b[38;5;124m'\u001b[39m)\n\u001b[1;32m    469\u001b[0m \u001b[38;5;28mprint\u001b[39m(\u001b[38;5;124m'\u001b[39m\u001b[38;5;124m--------------\u001b[39m\u001b[38;5;124m'\u001b[39m)\n\u001b[0;32m--> 470\u001b[0m n_energy_sol, n_wavefunction_sol \u001b[38;5;241m=\u001b[39m \u001b[43mRMF_dirac_energy_solver\u001b[49m\u001b[43m(\u001b[49m\u001b[43minput_file\u001b[49m\u001b[43m,\u001b[49m\u001b[43mscalar_pot\u001b[49m\u001b[43m,\u001b[49m\u001b[43mvector_pot\u001b[49m\u001b[43m,\u001b[49m\u001b[43mrho_pot\u001b[49m\u001b[43m,\u001b[49m\u001b[43mcoulomb_pot\u001b[49m\u001b[43m,\u001b[49m\u001b[43misospin\u001b[49m\u001b[38;5;241;43m=\u001b[39;49m\u001b[38;5;241;43m-\u001b[39;49m\u001b[38;5;241;43m1\u001b[39;49m\u001b[38;5;241;43m/\u001b[39;49m\u001b[38;5;241;43m2\u001b[39;49m\u001b[43m)\u001b[49m\n\u001b[1;32m    472\u001b[0m \u001b[38;5;28mprint\u001b[39m(\u001b[38;5;124m'\u001b[39m\u001b[38;5;124m'\u001b[39m)\n\u001b[1;32m    473\u001b[0m \u001b[38;5;28mprint\u001b[39m(\u001b[38;5;124m'\u001b[39m\u001b[38;5;124m-------------\u001b[39m\u001b[38;5;124m'\u001b[39m)\n",
      "File \u001b[0;32m~/Projects/Light-Front Mean Field Theory/Runge-Kutta Method/utils/solver.py:128\u001b[0m, in \u001b[0;36mRMF_dirac_energy_solver\u001b[0;34m(input_file, scalar_pot, vector_pot, rho_pot, coulomb_pot, isospin)\u001b[0m\n\u001b[1;32m    125\u001b[0m energy_opt \u001b[38;5;241m=\u001b[39m energy_optimizer(r_min,r_middle_list[index],r_max,N_steps,U,V)\n\u001b[1;32m    127\u001b[0m \u001b[38;5;28mprint\u001b[39m(state_list[index])\n\u001b[0;32m--> 128\u001b[0m energy, r_array, u_array, v_array \u001b[38;5;241m=\u001b[39m energy_opt\u001b[38;5;241m.\u001b[39mfind_energy_eigenvalue(energy_guess,diff_eq)\n\u001b[1;32m    129\u001b[0m energy_sol\u001b[38;5;241m.\u001b[39mappend([energy,angular_mom_list[index],isospin])\n\u001b[1;32m    130\u001b[0m wavefunction_sol\u001b[38;5;241m.\u001b[39mappend([r_array,u_array,v_array])\n",
      "\u001b[0;31mTypeError\u001b[0m: cannot unpack non-iterable int object"
     ]
    }
   ],
   "source": [
    "energy, wfk, scalar_pot, vector_pot, rho_pot, coulomb_pot = solve_SCRMFT(input_file)\n",
    "energy, wfk, scalar_pot, vector_pot, rho_pot, coulomb_pot = solve_woods_saxon_RMFT(input_file)"
   ]
  },
  {
   "cell_type": "code",
   "execution_count": null,
   "metadata": {},
   "outputs": [],
   "source": [
    "index = 5\n",
    "r_array = wfk[index][0]\n",
    "u_array = wfk[index][1]\n",
    "v_array = wfk[index][2]\n",
    "\n",
    "plt.plot(r_array,u_array)\n",
    "plt.plot(r_array,v_array)\n"
   ]
  },
  {
   "cell_type": "code",
   "execution_count": null,
   "metadata": {},
   "outputs": [],
   "source": [
    "energy"
   ]
  },
  {
   "cell_type": "code",
   "execution_count": null,
   "metadata": {},
   "outputs": [],
   "source": [
    "plt.plot(r_array,scalar_pot(r_array))\n",
    "plt.plot(r_array,vector_pot(r_array))\n",
    "plt.plot(r_array,rho_pot(r_array))\n",
    "plt.plot(r_array,coulomb_pot(r_array))"
   ]
  },
  {
   "cell_type": "code",
   "execution_count": null,
   "metadata": {},
   "outputs": [],
   "source": []
  }
 ],
 "metadata": {
  "kernelspec": {
   "display_name": "Python 3",
   "language": "python",
   "name": "python3"
  },
  "language_info": {
   "codemirror_mode": {
    "name": "ipython",
    "version": 3
   },
   "file_extension": ".py",
   "mimetype": "text/x-python",
   "name": "python",
   "nbconvert_exporter": "python",
   "pygments_lexer": "ipython3",
   "version": "3.10.5"
  }
 },
 "nbformat": 4,
 "nbformat_minor": 2
}
